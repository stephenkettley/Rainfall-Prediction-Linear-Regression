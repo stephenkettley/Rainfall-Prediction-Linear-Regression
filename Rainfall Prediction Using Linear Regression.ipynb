{
 "cells": [
  {
   "cell_type": "markdown",
   "id": "50386c56",
   "metadata": {},
   "source": [
    "# Cleaning the data"
   ]
  },
  {
   "cell_type": "markdown",
   "id": "216ef415",
   "metadata": {},
   "source": [
    "### Import libraries"
   ]
  },
  {
   "cell_type": "code",
   "execution_count": 1,
   "id": "04da7c66",
   "metadata": {},
   "outputs": [],
   "source": [
    "import pandas as pd\n",
    "import numpy as np"
   ]
  },
  {
   "cell_type": "markdown",
   "id": "69ac162c",
   "metadata": {},
   "source": [
    "### Read the data into a dataframe"
   ]
  },
  {
   "cell_type": "code",
   "execution_count": 2,
   "id": "bce5fa4d",
   "metadata": {},
   "outputs": [
    {
     "data": {
      "text/html": [
       "<div>\n",
       "<style scoped>\n",
       "    .dataframe tbody tr th:only-of-type {\n",
       "        vertical-align: middle;\n",
       "    }\n",
       "\n",
       "    .dataframe tbody tr th {\n",
       "        vertical-align: top;\n",
       "    }\n",
       "\n",
       "    .dataframe thead th {\n",
       "        text-align: right;\n",
       "    }\n",
       "</style>\n",
       "<table border=\"1\" class=\"dataframe\">\n",
       "  <thead>\n",
       "    <tr style=\"text-align: right;\">\n",
       "      <th></th>\n",
       "      <th>Date</th>\n",
       "      <th>TempHighF</th>\n",
       "      <th>TempAvgF</th>\n",
       "      <th>TempLowF</th>\n",
       "      <th>DewPointHighF</th>\n",
       "      <th>DewPointAvgF</th>\n",
       "      <th>DewPointLowF</th>\n",
       "      <th>HumidityHighPercent</th>\n",
       "      <th>HumidityAvgPercent</th>\n",
       "      <th>HumidityLowPercent</th>\n",
       "      <th>...</th>\n",
       "      <th>SeaLevelPressureAvgInches</th>\n",
       "      <th>SeaLevelPressureLowInches</th>\n",
       "      <th>VisibilityHighMiles</th>\n",
       "      <th>VisibilityAvgMiles</th>\n",
       "      <th>VisibilityLowMiles</th>\n",
       "      <th>WindHighMPH</th>\n",
       "      <th>WindAvgMPH</th>\n",
       "      <th>WindGustMPH</th>\n",
       "      <th>PrecipitationSumInches</th>\n",
       "      <th>Events</th>\n",
       "    </tr>\n",
       "  </thead>\n",
       "  <tbody>\n",
       "    <tr>\n",
       "      <th>0</th>\n",
       "      <td>2013-12-21</td>\n",
       "      <td>74</td>\n",
       "      <td>60</td>\n",
       "      <td>45</td>\n",
       "      <td>67</td>\n",
       "      <td>49</td>\n",
       "      <td>43</td>\n",
       "      <td>93</td>\n",
       "      <td>75</td>\n",
       "      <td>57</td>\n",
       "      <td>...</td>\n",
       "      <td>29.68</td>\n",
       "      <td>29.59</td>\n",
       "      <td>10</td>\n",
       "      <td>7</td>\n",
       "      <td>2</td>\n",
       "      <td>20</td>\n",
       "      <td>4</td>\n",
       "      <td>31</td>\n",
       "      <td>0.46</td>\n",
       "      <td>Rain , Thunderstorm</td>\n",
       "    </tr>\n",
       "    <tr>\n",
       "      <th>1</th>\n",
       "      <td>2013-12-22</td>\n",
       "      <td>56</td>\n",
       "      <td>48</td>\n",
       "      <td>39</td>\n",
       "      <td>43</td>\n",
       "      <td>36</td>\n",
       "      <td>28</td>\n",
       "      <td>93</td>\n",
       "      <td>68</td>\n",
       "      <td>43</td>\n",
       "      <td>...</td>\n",
       "      <td>30.13</td>\n",
       "      <td>29.87</td>\n",
       "      <td>10</td>\n",
       "      <td>10</td>\n",
       "      <td>5</td>\n",
       "      <td>16</td>\n",
       "      <td>6</td>\n",
       "      <td>25</td>\n",
       "      <td>0</td>\n",
       "      <td></td>\n",
       "    </tr>\n",
       "    <tr>\n",
       "      <th>2</th>\n",
       "      <td>2013-12-23</td>\n",
       "      <td>58</td>\n",
       "      <td>45</td>\n",
       "      <td>32</td>\n",
       "      <td>31</td>\n",
       "      <td>27</td>\n",
       "      <td>23</td>\n",
       "      <td>76</td>\n",
       "      <td>52</td>\n",
       "      <td>27</td>\n",
       "      <td>...</td>\n",
       "      <td>30.49</td>\n",
       "      <td>30.41</td>\n",
       "      <td>10</td>\n",
       "      <td>10</td>\n",
       "      <td>10</td>\n",
       "      <td>8</td>\n",
       "      <td>3</td>\n",
       "      <td>12</td>\n",
       "      <td>0</td>\n",
       "      <td></td>\n",
       "    </tr>\n",
       "    <tr>\n",
       "      <th>3</th>\n",
       "      <td>2013-12-24</td>\n",
       "      <td>61</td>\n",
       "      <td>46</td>\n",
       "      <td>31</td>\n",
       "      <td>36</td>\n",
       "      <td>28</td>\n",
       "      <td>21</td>\n",
       "      <td>89</td>\n",
       "      <td>56</td>\n",
       "      <td>22</td>\n",
       "      <td>...</td>\n",
       "      <td>30.45</td>\n",
       "      <td>30.3</td>\n",
       "      <td>10</td>\n",
       "      <td>10</td>\n",
       "      <td>7</td>\n",
       "      <td>12</td>\n",
       "      <td>4</td>\n",
       "      <td>20</td>\n",
       "      <td>0</td>\n",
       "      <td></td>\n",
       "    </tr>\n",
       "    <tr>\n",
       "      <th>4</th>\n",
       "      <td>2013-12-25</td>\n",
       "      <td>58</td>\n",
       "      <td>50</td>\n",
       "      <td>41</td>\n",
       "      <td>44</td>\n",
       "      <td>40</td>\n",
       "      <td>36</td>\n",
       "      <td>86</td>\n",
       "      <td>71</td>\n",
       "      <td>56</td>\n",
       "      <td>...</td>\n",
       "      <td>30.33</td>\n",
       "      <td>30.27</td>\n",
       "      <td>10</td>\n",
       "      <td>10</td>\n",
       "      <td>7</td>\n",
       "      <td>10</td>\n",
       "      <td>2</td>\n",
       "      <td>16</td>\n",
       "      <td>T</td>\n",
       "      <td></td>\n",
       "    </tr>\n",
       "  </tbody>\n",
       "</table>\n",
       "<p>5 rows × 21 columns</p>\n",
       "</div>"
      ],
      "text/plain": [
       "         Date  TempHighF  TempAvgF  TempLowF DewPointHighF DewPointAvgF  \\\n",
       "0  2013-12-21         74        60        45            67           49   \n",
       "1  2013-12-22         56        48        39            43           36   \n",
       "2  2013-12-23         58        45        32            31           27   \n",
       "3  2013-12-24         61        46        31            36           28   \n",
       "4  2013-12-25         58        50        41            44           40   \n",
       "\n",
       "  DewPointLowF HumidityHighPercent HumidityAvgPercent HumidityLowPercent  ...  \\\n",
       "0           43                  93                 75                 57  ...   \n",
       "1           28                  93                 68                 43  ...   \n",
       "2           23                  76                 52                 27  ...   \n",
       "3           21                  89                 56                 22  ...   \n",
       "4           36                  86                 71                 56  ...   \n",
       "\n",
       "  SeaLevelPressureAvgInches SeaLevelPressureLowInches VisibilityHighMiles  \\\n",
       "0                     29.68                     29.59                  10   \n",
       "1                     30.13                     29.87                  10   \n",
       "2                     30.49                     30.41                  10   \n",
       "3                     30.45                      30.3                  10   \n",
       "4                     30.33                     30.27                  10   \n",
       "\n",
       "  VisibilityAvgMiles VisibilityLowMiles WindHighMPH WindAvgMPH WindGustMPH  \\\n",
       "0                  7                  2          20          4          31   \n",
       "1                 10                  5          16          6          25   \n",
       "2                 10                 10           8          3          12   \n",
       "3                 10                  7          12          4          20   \n",
       "4                 10                  7          10          2          16   \n",
       "\n",
       "  PrecipitationSumInches               Events  \n",
       "0                   0.46  Rain , Thunderstorm  \n",
       "1                      0                       \n",
       "2                      0                       \n",
       "3                      0                       \n",
       "4                      T                       \n",
       "\n",
       "[5 rows x 21 columns]"
      ]
     },
     "execution_count": 2,
     "metadata": {},
     "output_type": "execute_result"
    }
   ],
   "source": [
    "data = pd.read_csv('austin_weather.csv')\n",
    "data.head()"
   ]
  },
  {
   "cell_type": "markdown",
   "id": "e3072978",
   "metadata": {},
   "source": [
    "### Drop unnecessary columns in the data"
   ]
  },
  {
   "cell_type": "code",
   "execution_count": 3,
   "id": "ecc6be59",
   "metadata": {},
   "outputs": [],
   "source": [
    "data = data.drop(['Events', 'Date', 'SeaLevelPressureHighInches', 'SeaLevelPressureLowInches'], axis = 1)"
   ]
  },
  {
   "cell_type": "markdown",
   "id": "b5359474",
   "metadata": {},
   "source": [
    "### Replace 'T' values with 0 ('T' represents trace rainfall)"
   ]
  },
  {
   "cell_type": "code",
   "execution_count": 4,
   "id": "84098d84",
   "metadata": {},
   "outputs": [],
   "source": [
    "data = data.replace('T', 0.0)"
   ]
  },
  {
   "cell_type": "markdown",
   "id": "2d3ccf82",
   "metadata": {},
   "source": [
    "### Replace '-' values with 0 ('-' represents data not available)"
   ]
  },
  {
   "cell_type": "code",
   "execution_count": 5,
   "id": "857de28f",
   "metadata": {},
   "outputs": [],
   "source": [
    "data = data.replace('-', 0.0)"
   ]
  },
  {
   "cell_type": "markdown",
   "id": "35003ae9",
   "metadata": {},
   "source": [
    "### Save the data in a csv file"
   ]
  },
  {
   "cell_type": "code",
   "execution_count": 6,
   "id": "48cb3caa",
   "metadata": {},
   "outputs": [],
   "source": [
    "data.to_csv('austin_weather_cleaned.csv')"
   ]
  },
  {
   "cell_type": "markdown",
   "id": "24318ca4",
   "metadata": {},
   "source": [
    "# Train LinearRegression model and use it to predict new data"
   ]
  },
  {
   "cell_type": "markdown",
   "id": "120a16db",
   "metadata": {},
   "source": [
    "### Import libraries"
   ]
  },
  {
   "cell_type": "code",
   "execution_count": 7,
   "id": "521f2aaa",
   "metadata": {},
   "outputs": [],
   "source": [
    "import pandas as pd\n",
    "import numpy as np\n",
    "import matplotlib.pyplot as plt\n",
    "import sklearn as sk\n",
    "from sklearn.linear_model import LinearRegression"
   ]
  },
  {
   "cell_type": "markdown",
   "id": "c64725b1",
   "metadata": {},
   "source": [
    "### Read the cleaned data"
   ]
  },
  {
   "cell_type": "code",
   "execution_count": 8,
   "id": "a1a13ed8",
   "metadata": {},
   "outputs": [],
   "source": [
    "data = pd.read_csv('austin_weather_cleaned.csv')"
   ]
  },
  {
   "cell_type": "markdown",
   "id": "74d1f717",
   "metadata": {},
   "source": [
    "### Select the features and labels"
   ]
  },
  {
   "cell_type": "code",
   "execution_count": 11,
   "id": "c479119e",
   "metadata": {},
   "outputs": [],
   "source": [
    "X = data.drop(['PrecipitationSumInches'], axis = 1)\n",
    "Y = data['PrecipitationSumInches']\n",
    "Y = Y.values.reshape(-1,1) #reshape into a 2-d vector"
   ]
  },
  {
   "cell_type": "markdown",
   "id": "2df03372",
   "metadata": {},
   "source": [
    "### Consider a random day in the dataset, we shall plot a graph and observe this day"
   ]
  },
  {
   "cell_type": "code",
   "execution_count": 12,
   "id": "dc5a2fae",
   "metadata": {},
   "outputs": [],
   "source": [
    "day_index = 798\n",
    "days = [i for i in range(Y.size)]"
   ]
  },
  {
   "cell_type": "markdown",
   "id": "3310e442",
   "metadata": {},
   "source": [
    "### Initialise a linear regression classifier"
   ]
  },
  {
   "cell_type": "code",
   "execution_count": 13,
   "id": "7569bceb",
   "metadata": {},
   "outputs": [],
   "source": [
    "clf = LinearRegression()"
   ]
  },
  {
   "cell_type": "markdown",
   "id": "248a96e2",
   "metadata": {},
   "source": [
    "### Train the data"
   ]
  },
  {
   "cell_type": "code",
   "execution_count": 14,
   "id": "bdf88417",
   "metadata": {},
   "outputs": [
    {
     "data": {
      "text/plain": [
       "LinearRegression()"
      ]
     },
     "execution_count": 14,
     "metadata": {},
     "output_type": "execute_result"
    }
   ],
   "source": [
    "clf.fit(X,Y)"
   ]
  },
  {
   "cell_type": "markdown",
   "id": "79a66a41",
   "metadata": {},
   "source": [
    "### Give a sample input to test our model"
   ]
  },
  {
   "cell_type": "code",
   "execution_count": 15,
   "id": "43cf8d79",
   "metadata": {},
   "outputs": [],
   "source": [
    "inp = np.array([[74], [60], [45], [67], [49], [43], [33], [45], [57], \n",
    "                  [29.68], [10], [7], [2], [0], [20], [4], [31]])\n",
    "inp = inp.reshape(1,-1)"
   ]
  },
  {
   "cell_type": "code",
   "execution_count": 16,
   "id": "28f07cbc",
   "metadata": {},
   "outputs": [
    {
     "name": "stdout",
     "output_type": "stream",
     "text": [
      "The precipitation in inches for the input is:  [[1.33868402]]\n"
     ]
    }
   ],
   "source": [
    "print('The precipitation in inches for the input is: ', clf.predict(inp))"
   ]
  },
  {
   "cell_type": "markdown",
   "id": "158a10c4",
   "metadata": {},
   "source": [
    "### Plot a graph of precipitation levels versus the number of days"
   ]
  },
  {
   "cell_type": "code",
   "execution_count": 39,
   "id": "accda62d",
   "metadata": {},
   "outputs": [
    {
     "name": "stdout",
     "output_type": "stream",
     "text": [
      "The precipitation trend graph: \n"
     ]
    },
    {
     "data": {
      "image/png": "[encoded data removed]",
      "text/plain": [
       "<Figure size 792x360 with 1 Axes>"
      ]
     },
     "metadata": {
      "needs_background": "light"
     },
     "output_type": "display_data"
    }
   ],
   "source": [
    "print('The precipitation trend graph: ')\n",
    "plt.scatter(days, Y, color='g')\n",
    "plt.scatter(days[day_index], Y[day_index], color='r')\n",
    "plt.title('Precipitation Level')\n",
    "plt.xlabel('Days')\n",
    "plt.ylabel('Precipitation in inches')\n",
    "plt.show()"
   ]
  },
  {
   "cell_type": "markdown",
   "id": "e28a47b3",
   "metadata": {},
   "source": [
    "### Plot a graph with a few features (x values) against the precipitation to observe trends"
   ]
  },
  {
   "cell_type": "code",
   "execution_count": 40,
   "id": "c0db12ea",
   "metadata": {},
   "outputs": [],
   "source": [
    "x_vis = X.filter(['TempAvgF', 'DewPointAvgF', 'HumidityAvgPercent',\n",
    "                  'SeaLevelPressureAvgInches', 'VisibilityAvgMiles',\n",
    "                  'WindAvgMPH'], axis = 1)"
   ]
  },
  {
   "cell_type": "code",
   "execution_count": 43,
   "id": "7449fbed",
   "metadata": {},
   "outputs": [
    {
     "name": "stdout",
     "output_type": "stream",
     "text": [
      "Precipitation vs selected attributes graph: \n"
     ]
    },
    {
     "data": {
      "image/png": "[encoded data removed]",
      "text/plain": [
       "<Figure size 792x360 with 6 Axes>"
      ]
     },
     "metadata": {
      "needs_background": "light"
     },
     "output_type": "display_data"
    }
   ],
   "source": [
    "print('Precipitation vs selected attributes graph: ')\n",
    "\n",
    "plt.rcParams[\"figure.figsize\"] = (11,5)\n",
    "\n",
    "\n",
    "\n",
    "for i in range(x_vis.columns.size):\n",
    "    plt.subplot(3, 2, i + 1)\n",
    "    plt.scatter(days, x_vis[x_vis.columns.values[i][:100]],\n",
    "                                               color = 'g',\n",
    "                                            marker='.')\n",
    "  \n",
    "    plt.scatter(days[day_index], \n",
    "                x_vis[x_vis.columns.values[i]][day_index],\n",
    "                color ='r')\n",
    "    plt.title(x_vis.columns.values[i])\n",
    "    \n",
    "   \n",
    "plt.show()"
   ]
  }
 ],
 "metadata": {
  "kernelspec": {
   "display_name": "Python 3 (ipykernel)",
   "language": "python",
   "name": "python3"
  },
  "language_info": {
   "codemirror_mode": {
    "name": "ipython",
    "version": 3
   },
   "file_extension": ".py",
   "mimetype": "text/x-python",
   "name": "python",
   "nbconvert_exporter": "python",
   "pygments_lexer": "ipython3",
   "version": "3.9.7"
  }
 },
 "nbformat": 4,
 "nbformat_minor": 5
}
